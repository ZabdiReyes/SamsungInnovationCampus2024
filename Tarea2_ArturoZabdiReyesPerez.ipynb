{
  "nbformat": 4,
  "nbformat_minor": 0,
  "metadata": {
    "colab": {
      "provenance": [],
      "authorship_tag": "ABX9TyOB7KzrkrMNni4D4IuMGQ1R",
      "include_colab_link": true
    },
    "kernelspec": {
      "name": "python3",
      "display_name": "Python 3"
    },
    "language_info": {
      "name": "python"
    }
  },
  "cells": [
    {
      "cell_type": "markdown",
      "metadata": {
        "id": "view-in-github",
        "colab_type": "text"
      },
      "source": [
        "<a href=\"https://colab.research.google.com/github/ZabdiReyes/SamsungInnovationCampus2024/blob/main/Tarea2_ArturoZabdiReyesPerez.ipynb\" target=\"_parent\"><img src=\"https://colab.research.google.com/assets/colab-badge.svg\" alt=\"Open In Colab\"/></a>"
      ]
    },
    {
      "cell_type": "code",
      "source": [
        "import numpy as np\n",
        "np.__version__\n"
      ],
      "metadata": {
        "colab": {
          "base_uri": "https://localhost:8080/",
          "height": 35
        },
        "id": "p22mr2rxqlHi",
        "outputId": "7ba8478b-610f-460d-9977-acbc193d1693"
      },
      "execution_count": null,
      "outputs": [
        {
          "output_type": "execute_result",
          "data": {
            "text/plain": [
              "'1.26.4'"
            ],
            "application/vnd.google.colaboratory.intrinsic+json": {
              "type": "string"
            }
          },
          "metadata": {},
          "execution_count": 210
        }
      ]
    },
    {
      "cell_type": "code",
      "source": [
        "#Crear una matrix de 5*4 que contenga las calificaciones de 5 estudiantes en 4 asignaturas\n",
        "Estudiante1 = np.array([7,8,6,5])\n",
        "Estudiante2 = np.array([9,7,8,6])\n",
        "Estudiante3 = np.array([6,5,9,7])\n",
        "Estudiante4 = np.array([8,6,7,8])\n",
        "Estudiante5 = np.array([5,4,6,5])\n",
        "calificaciones = np.array([Estudiante1,Estudiante2,Estudiante3,Estudiante4,Estudiante5])\n",
        "calificaciones"
      ],
      "metadata": {
        "colab": {
          "base_uri": "https://localhost:8080/"
        },
        "id": "9q_UUHZ7BjZ6",
        "outputId": "850ded9b-e709-422b-d231-7a1b95bf60c1"
      },
      "execution_count": null,
      "outputs": [
        {
          "output_type": "execute_result",
          "data": {
            "text/plain": [
              "array([[7, 8, 6, 5],\n",
              "       [9, 7, 8, 6],\n",
              "       [6, 5, 9, 7],\n",
              "       [8, 6, 7, 8],\n",
              "       [5, 4, 6, 5]])"
            ]
          },
          "metadata": {},
          "execution_count": 120
        }
      ]
    },
    {
      "cell_type": "code",
      "source": [
        "for i in range(len(calificaciones[0])+1):\n",
        "    print(f\"Estudiante{i+1}: {calificaciones[i]}\")\n"
      ],
      "metadata": {
        "colab": {
          "base_uri": "https://localhost:8080/"
        },
        "id": "eQKjki_yCM8Q",
        "outputId": "8207dad6-62a3-44d0-d642-162073487f66"
      },
      "execution_count": null,
      "outputs": [
        {
          "output_type": "stream",
          "name": "stdout",
          "text": [
            "Estudiante1: [7 8 6 5]\n",
            "Estudiante2: [9 7 8 6]\n",
            "Estudiante3: [6 5 9 7]\n",
            "Estudiante4: [8 6 7 8]\n",
            "Estudiante5: [5 4 6 5]\n"
          ]
        }
      ]
    },
    {
      "cell_type": "code",
      "source": [
        "#Varianza por alumno\n",
        "for i in range(len(calificaciones[0])+1):\n",
        "    print(f\"Varianza de Estudiante{i+1}: {calificaciones[i].var()}\")\n"
      ],
      "metadata": {
        "colab": {
          "base_uri": "https://localhost:8080/"
        },
        "outputId": "ab59a9e4-7937-410a-96f2-fe02218955e8",
        "id": "2cwcw88LDw5p"
      },
      "execution_count": null,
      "outputs": [
        {
          "output_type": "stream",
          "name": "stdout",
          "text": [
            "Varianza de Estudiante1: 1.25\n",
            "Varianza de Estudiante2: 1.25\n",
            "Varianza de Estudiante3: 2.1875\n",
            "Varianza de Estudiante4: 0.6875\n",
            "Varianza de Estudiante5: 0.5\n"
          ]
        }
      ]
    },
    {
      "cell_type": "code",
      "source": [
        "#Promedio por asignatura\n",
        "for i in range(len(calificaciones[0])):\n",
        "    print(f\"Asignatura {i+1}: {calificaciones[:,i].mean()}\")"
      ],
      "metadata": {
        "colab": {
          "base_uri": "https://localhost:8080/"
        },
        "outputId": "aa85c150-4e32-4e3b-8466-dd276c21179f",
        "id": "pAtTbkdpCuOU"
      },
      "execution_count": null,
      "outputs": [
        {
          "output_type": "stream",
          "name": "stdout",
          "text": [
            "Asignatura 1: 7.0\n",
            "Asignatura 2: 6.0\n",
            "Asignatura 3: 7.2\n",
            "Asignatura 4: 6.2\n"
          ]
        }
      ]
    },
    {
      "cell_type": "code",
      "source": [
        "#Desviacion estandar de la matriz completa\n",
        "print(f\"Desviacion estandar Calificaciones: {calificaciones.std()}\")"
      ],
      "metadata": {
        "colab": {
          "base_uri": "https://localhost:8080/"
        },
        "id": "YrSewg9QEKRE",
        "outputId": "461dc863-5aaa-488c-a298-213ee02a913a"
      },
      "execution_count": null,
      "outputs": [
        {
          "output_type": "stream",
          "name": "stdout",
          "text": [
            "Desviacion estandar Calificaciones: 1.3928388277184118\n"
          ]
        }
      ]
    },
    {
      "cell_type": "code",
      "source": [
        "#Valores unicos y ordenarlos\n",
        "sorted_values = np.unique(calificaciones)\n",
        "sorted_values.sort()\n",
        "sorted_values"
      ],
      "metadata": {
        "colab": {
          "base_uri": "https://localhost:8080/"
        },
        "id": "egBjip6yEsIg",
        "outputId": "575f944a-ad87-4993-e919-0a79c57ffdd2"
      },
      "execution_count": null,
      "outputs": [
        {
          "output_type": "execute_result",
          "data": {
            "text/plain": [
              "array([4, 5, 6, 7, 8, 9])"
            ]
          },
          "metadata": {},
          "execution_count": 145
        }
      ]
    },
    {
      "cell_type": "code",
      "source": [
        "#Filtrar estudiantes con calificaciones mayores a 6\n",
        "mascara_aprobados = np.all(calificaciones > 6, axis=1)\n",
        "\n",
        "#Remplazar 6 por 10\n",
        "arreglo_modificado = np.where(calificaciones <= 6, 10, calificaciones)\n",
        "subarreglo_aprobados = calificaciones[mascara_aprobados]\n",
        "\n",
        "#estudiantes_aprobados = np.array(list(estudiantes_aprobados.values()))\n",
        "print(\"Array de estudiantes aprobados\\n\",subarreglo_aprobados)\n",
        "print(\"Array modificado\\n\",arreglo_modificado)\n"
      ],
      "metadata": {
        "colab": {
          "base_uri": "https://localhost:8080/"
        },
        "id": "fC22TuBpE5BK",
        "outputId": "ee858160-932e-4b19-c01d-b431629ce033"
      },
      "execution_count": null,
      "outputs": [
        {
          "output_type": "stream",
          "name": "stdout",
          "text": [
            "Array de estudiantes aprobados\n",
            " []\n",
            "Array modificado\n",
            " [[ 7  8 10 10]\n",
            " [ 9  7  8 10]\n",
            " [10 10  9  7]\n",
            " [ 8 10  7  8]\n",
            " [10 10 10 10]]\n"
          ]
        }
      ]
    },
    {
      "cell_type": "code",
      "source": [
        "#Calificacion maxima\n",
        "print(f\"Calificacion maxima: {calificaciones.max()}\")\n",
        "#Calificaion minima\n",
        "print(f\"Calificacion minima: {calificaciones.min()}\")\n",
        "#Mediana de calificaciones\n",
        "print(f\"Mediana de calificaciones: {np.median(calificaciones)}\")"
      ],
      "metadata": {
        "colab": {
          "base_uri": "https://localhost:8080/"
        },
        "id": "_Z-9LZ0lJ8zk",
        "outputId": "c9706b20-d828-4e64-811c-f018b328f1ea"
      },
      "execution_count": null,
      "outputs": [
        {
          "output_type": "stream",
          "name": "stdout",
          "text": [
            "Calificacion maxima: 9\n",
            "Calificacion minima: 4\n",
            "Mediana de calificaciones: 6.5\n"
          ]
        }
      ]
    },
    {
      "cell_type": "code",
      "source": [
        "#Funcion que imprime el resumen de una asignatura dada\n",
        "def resumen_asignatura(a:np.array, num_asignatura:int):\n",
        "  #Media\n",
        "  media = np.mean(a)\n",
        "  #Maxima calificacion\n",
        "  maximo = np.max(a)\n",
        "  #Minima calificacion\n",
        "  minimo = np.min(a)\n",
        "  #Mediana\n",
        "  mediana = np.median(a)\n",
        "  #Valores unicos\n",
        "  valores_unicos = np.unique(a)\n",
        "\n",
        "  print(f\"Asignatura {num_asignatura}\")\n",
        "  print(f\"Media: {media}\")\n",
        "  print(f\"Maximo: {maximo}\")\n",
        "  print(f\"Minimo: {minimo}\")\n",
        "  print(f\"Mediana: {mediana}\")\n",
        "  print(f\"Valores unicos: {valores_unicos} \\n\")\n"
      ],
      "metadata": {
        "id": "uJP2gVarPeLL"
      },
      "execution_count": null,
      "outputs": []
    },
    {
      "cell_type": "code",
      "source": [
        "for i in range(len(calificaciones[0])):\n",
        "    resumen_asignatura(calificaciones[:,i],i+1)"
      ],
      "metadata": {
        "colab": {
          "base_uri": "https://localhost:8080/"
        },
        "id": "1Q2dMx0eRViL",
        "outputId": "b986302e-c477-4ed7-b46d-dd4bb342407f"
      },
      "execution_count": null,
      "outputs": [
        {
          "output_type": "stream",
          "name": "stdout",
          "text": [
            "Asignatura 1\n",
            "Media: 7.0\n",
            "Maximo: 9\n",
            "Minimo: 5\n",
            "Mediana: 7.0\n",
            "Valores unicos: [5 6 7 8 9] \n",
            "\n",
            "Asignatura 2\n",
            "Media: 6.0\n",
            "Maximo: 8\n",
            "Minimo: 4\n",
            "Mediana: 6.0\n",
            "Valores unicos: [4 5 6 7 8] \n",
            "\n",
            "Asignatura 3\n",
            "Media: 7.2\n",
            "Maximo: 9\n",
            "Minimo: 6\n",
            "Mediana: 7.0\n",
            "Valores unicos: [6 7 8 9] \n",
            "\n",
            "Asignatura 4\n",
            "Media: 6.2\n",
            "Maximo: 8\n",
            "Minimo: 5\n",
            "Mediana: 6.0\n",
            "Valores unicos: [5 6 7 8] \n",
            "\n"
          ]
        }
      ]
    },
    {
      "cell_type": "code",
      "source": [
        "#Matplotlib para ejemplificar performance por asignatura\n",
        "import matplotlib.pyplot as plt\n",
        "# Datos de calificaciones por asignatura\n",
        "asignatura1 = calificaciones[:,0]\n",
        "asignatura2 = calificaciones[:,1]\n",
        "asignatura3 = calificaciones[:,2]\n",
        "asignatura4 = calificaciones[:,3]\n",
        "\n",
        "# Crear el diagrama de caja\n",
        "data = [asignatura1, asignatura2, asignatura3, asignatura4]\n",
        "plt.boxplot(data, labels=['Asignatura 1', 'Asignatura 2', 'Asignatura 3', 'Asignatura 4'])\n",
        "# Alejar el diagrama\n",
        "plt.ylim(0 , 13)\n",
        "# Personalizar la gráfica\n",
        "plt.title('Rendimiento por Asignatura')\n",
        "plt.ylabel('Calificaciones')\n",
        "plt.xlabel('Asignaturas')\n",
        "\n",
        "# Mostrar la gráfica\n",
        "plt.show()\n"
      ],
      "metadata": {
        "colab": {
          "base_uri": "https://localhost:8080/",
          "height": 472
        },
        "id": "AS9AxyxLRVhM",
        "outputId": "309d6593-13ee-41da-c248-746fb48aa317"
      },
      "execution_count": null,
      "outputs": [
        {
          "output_type": "display_data",
          "data": {
            "text/plain": [
              "<Figure size 640x480 with 1 Axes>"
            ],
            "image/png": "[encoded data removed]"
          },
          "metadata": {}
        }
      ]
    },
    {
      "cell_type": "code",
      "source": [
        "'''\n",
        "Gráfica 2: Rendimiento de los Alumnos (Gráfica de Barras)\n",
        "\n",
        "Esta gráfica mostrará el promedio de calificaciones de cada alumno utilizando una gráfica de barras.\n",
        "'''\n",
        "\n",
        "import matplotlib.pyplot as plt\n",
        "import numpy as np\n",
        "\n",
        "# Calcular el promedio de calificaciones por alumno\n",
        "promedios = np.mean(calificaciones, axis=1)\n",
        "\n",
        "# Crear la gráfica de barras\n",
        "plt.bar(np.arange(len(promedios)), promedios)\n",
        "# Dibuja una raya roja donde esta el promedio de 6\n",
        "plt.axhline(y=6, color='r', linestyle='--')\n",
        "# Escala la grafica para dibuje de 4 a 10\n",
        "plt.ylim(4, 10)\n",
        "\n",
        "# Personalizar la gráfica\n",
        "plt.title('Promedio de los Alumnos')\n",
        "plt.ylabel('Promedio de Calificaciones')\n",
        "plt.xlabel('Alumnos')\n",
        "plt.xticks(np.arange(len(promedios)), ['Estudiante 1', 'Estudiante 2', 'Estudiante 3', 'Estudiante 4', 'Estudiante 5'])\n",
        "\n",
        "# Mostrar la gráfica\n",
        "plt.show()"
      ],
      "metadata": {
        "colab": {
          "base_uri": "https://localhost:8080/",
          "height": 472
        },
        "id": "KPzR7iK2V7xt",
        "outputId": "bf6c0c51-de24-4223-8ff4-25d966205d11"
      },
      "execution_count": null,
      "outputs": [
        {
          "output_type": "display_data",
          "data": {
            "text/plain": [
              "<Figure size 640x480 with 1 Axes>"
            ],
            "image/png": "[encoded data removed]"
          },
          "metadata": {}
        }
      ]
    },
    {
      "cell_type": "code",
      "source": [
        "# prompt: Sugiereme algun diagrama e implementalo, que permita visualizar la informacion de arriba, como un histograma\n",
        "\n",
        "import numpy as np\n",
        "import matplotlib.pyplot as plt\n",
        "\n",
        "# ... (Tu código existente) ...\n",
        "\n",
        "\n",
        "# Gráfica 3: Histograma de las Calificaciones (Histograma)\n",
        "\n",
        "# Crear el histograma\n",
        "plt.hist(calificaciones.flatten(), bins=range(calificaciones.min(), 10), edgecolor='black')\n",
        "\n",
        "# Personalizar la gráfica\n",
        "plt.title('Distribución de las Calificaciones')\n",
        "plt.xlabel('Calificaciones')\n",
        "plt.ylabel('Frecuencia')\n",
        "\n",
        "# Mostrar la gráfica\n",
        "plt.show()"
      ],
      "metadata": {
        "colab": {
          "base_uri": "https://localhost:8080/",
          "height": 472
        },
        "id": "gg4Yfr-BiDg-",
        "outputId": "15ce2005-0a2b-459e-b16a-3965c95a3303"
      },
      "execution_count": null,
      "outputs": [
        {
          "output_type": "display_data",
          "data": {
            "text/plain": [
              "<Figure size 640x480 with 1 Axes>"
            ],
            "image/png": "[encoded data removed]"
          },
          "metadata": {}
        }
      ]
    }
  ]
}